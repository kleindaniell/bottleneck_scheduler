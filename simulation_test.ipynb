{
  "nbformat": 4,
  "nbformat_minor": 0,
  "metadata": {
    "colab": {
      "provenance": [],
      "authorship_tag": "ABX9TyPgL00GsLF1uEahzMmF5XLM",
      "include_colab_link": true
    },
    "kernelspec": {
      "name": "python3",
      "display_name": "Python 3"
    },
    "language_info": {
      "name": "python"
    }
  },
  "cells": [
    {
      "cell_type": "markdown",
      "metadata": {
        "id": "view-in-github",
        "colab_type": "text"
      },
      "source": [
        "<a href=\"https://colab.research.google.com/github/kleindaniell/bottleneck_scheduler/blob/1-simulation_test/simulation_test.ipynb\" target=\"_parent\"><img src=\"https://colab.research.google.com/assets/colab-badge.svg\" alt=\"Open In Colab\"/></a>"
      ]
    },
    {
      "cell_type": "markdown",
      "source": [
        "# Simulation test"
      ],
      "metadata": {
        "id": "lRvzjY3-haPm"
      }
    },
    {
      "cell_type": "code",
      "source": [],
      "metadata": {
        "id": "FQJ4TUYih0MX"
      },
      "execution_count": null,
      "outputs": []
    }
  ]
}